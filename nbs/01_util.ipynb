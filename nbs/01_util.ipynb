{
 "cells": [
  {
   "cell_type": "code",
   "execution_count": null,
   "metadata": {},
   "outputs": [],
   "source": [
    "# default_exp util"
   ]
  },
  {
   "cell_type": "markdown",
   "metadata": {},
   "source": [
    "# chessocr\n",
    "\n",
    "> API details."
   ]
  },
  {
   "cell_type": "code",
   "execution_count": null,
   "metadata": {},
   "outputs": [],
   "source": [
    "#hide\n",
    "from nbdev.showdoc import *"
   ]
  },
  {
   "cell_type": "code",
   "execution_count": null,
   "metadata": {},
   "outputs": [],
   "source": [
    "#export\n",
    "import cv2\n",
    "import numpy as np\n",
    "import random"
   ]
  },
  {
   "cell_type": "code",
   "execution_count": null,
   "metadata": {},
   "outputs": [],
   "source": [
    "#export\n",
    "def writeDocumentationImage(image, name):\n",
    "    cv2.imwrite(\"images/\" + name + \".png\", image)"
   ]
  },
  {
   "cell_type": "code",
   "execution_count": null,
   "metadata": {},
   "outputs": [],
   "source": [
    "#export\n",
    "def showImage(image, name=\"image\"):\n",
    "    print(\"Showing image: '%s'\" % name)\n",
    "    cv2.namedWindow('image', cv2.WINDOW_NORMAL)\n",
    "    cv2.imshow('image', image)\n",
    "    cv2.waitKey(0)\n",
    "    cv2.destroyAllWindows()"
   ]
  },
  {
   "cell_type": "code",
   "execution_count": null,
   "metadata": {},
   "outputs": [],
   "source": [
    "#export\n",
    "def drawLine(image, a, b, color, thickness=1):\n",
    "    cv2.line(image, tuple(a), tuple(b), color, thickness)"
   ]
  },
  {
   "cell_type": "code",
   "execution_count": null,
   "metadata": {},
   "outputs": [],
   "source": [
    "#export\n",
    "\n",
    "def drawContour(image, contour, color, thickness=4):\n",
    "    for i in range(len(contour)):\n",
    "        p1 = tuple(contour[i])\n",
    "        p2 = tuple(contour[int((i+1) % len(contour))])\n",
    "        drawLine(image, p1, p2, color, thickness)"
   ]
  },
  {
   "cell_type": "code",
   "execution_count": null,
   "metadata": {},
   "outputs": [],
   "source": [
    "#export\n",
    "def drawBoundaries (image, boundaries, color=(128, 128, 0)):\n",
    "    p_min, p_max = boundaries\n",
    "    cv2.rectangle(image, p_min, p_max, color)"
   ]
  },
  {
   "cell_type": "code",
   "execution_count": null,
   "metadata": {},
   "outputs": [],
   "source": [
    "#export\n",
    "def drawPerspective(image, perspective, thickness=4):\n",
    "    (a,b,c,d) = perspective\n",
    "\n",
    "    #    cv2.polylines(image, np.array(perspective, 'int32'), False, (0,0,255) )\n",
    "    drawLine(image, a,c, (255,0,0), thickness)\n",
    "    drawLine(image, b,d, (255,0,255), thickness)"
   ]
  },
  {
   "cell_type": "code",
   "execution_count": null,
   "metadata": {},
   "outputs": [],
   "source": [
    "#export\n",
    "def drawLines(image, lines, color=(0,0,255), thickness=2):\n",
    "    for l in lines:\n",
    "        l.draw(image, color, thickness)"
   ]
  },
  {
   "cell_type": "code",
   "execution_count": null,
   "metadata": {},
   "outputs": [],
   "source": [
    "#export\n",
    "def drawPoint(image, point, color, thickness=4):\n",
    "    cv2.circle(image, tuple([int(i) for i in point]), thickness, color)"
   ]
  },
  {
   "cell_type": "code",
   "execution_count": null,
   "metadata": {},
   "outputs": [],
   "source": [
    "#export\n",
    "def ratio(a,b):\n",
    "    if a == 0 or b == 0:\n",
    "        return -1\n",
    "    return min(a,b)/float(max(a,b))"
   ]
  },
  {
   "cell_type": "code",
   "execution_count": null,
   "metadata": {},
   "outputs": [],
   "source": [
    "#export\n",
    "def randomColor(ncol=3):\n",
    "    return [(random.randint(128, 255) * (random.randint(0,100) % 2)) for x in range(ncol)]"
   ]
  }
 ],
 "metadata": {
  "kernelspec": {
   "display_name": "Python 3",
   "language": "python",
   "name": "python3"
  }
 },
 "nbformat": 4,
 "nbformat_minor": 2
}
