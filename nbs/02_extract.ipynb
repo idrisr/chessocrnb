{
 "cells": [
  {
   "cell_type": "code",
   "execution_count": null,
   "metadata": {},
   "outputs": [],
   "source": [
    "# default_exp extract"
   ]
  },
  {
   "cell_type": "markdown",
   "metadata": {},
   "source": [
    "# extract\n",
    "\n",
    "> API details."
   ]
  },
  {
   "cell_type": "code",
   "execution_count": null,
   "metadata": {},
   "outputs": [],
   "source": [
    "#hide\n",
    "from nbdev.showdoc import *"
   ]
  },
  {
   "cell_type": "code",
   "execution_count": null,
   "metadata": {},
   "outputs": [],
   "source": [
    "#export\n",
    "import cv2\n",
    "import numpy as np\n",
    "import random"
   ]
  },
  {
   "cell_type": "code",
   "execution_count": null,
   "metadata": {},
   "outputs": [
    {
     "name": "stdout",
     "output_type": "stream",
     "text": [
      "Obtaining file:///Users/id/nbs/07-chessocrnb\n",
      "Requirement already satisfied: pip in /Users/id/nbs/venv/lib/python3.7/site-packages (from chessocr==0.0.1) (21.1.1)\n",
      "Requirement already satisfied: packaging in /Users/id/nbs/venv/lib/python3.7/site-packages (from chessocr==0.0.1) (20.9)\n",
      "Requirement already satisfied: pyparsing>=2.0.2 in /Users/id/nbs/venv/lib/python3.7/site-packages (from packaging->chessocr==0.0.1) (2.4.7)\n",
      "Installing collected packages: chessocr\n",
      "  Running setup.py develop for chessocr\n",
      "Successfully installed chessocr-0.0.1\n",
      "\u001b[33mWARNING: You are using pip version 21.1.1; however, version 21.1.2 is available.\n",
      "You should consider upgrading via the '/Users/id/nbs/venv/bin/python3.7 -m pip install --upgrade pip' command.\u001b[0m\n"
     ]
    }
   ],
   "source": [
    "!pip install -e ../"
   ]
  },
  {
   "cell_type": "code",
   "execution_count": null,
   "metadata": {},
   "outputs": [
    {
     "ename": "ModuleNotFoundError",
     "evalue": "No module named 'chessocr'",
     "output_type": "error",
     "traceback": [
      "\u001b[1;31m---------------------------------------------------------------------------\u001b[0m",
      "\u001b[1;31mModuleNotFoundError\u001b[0m                       Traceback (most recent call last)",
      "\u001b[1;32m<ipython-input-5-dd65a099ab47>\u001b[0m in \u001b[0;36m<module>\u001b[1;34m\u001b[0m\n\u001b[1;32m----> 1\u001b[1;33m \u001b[1;32mfrom\u001b[0m \u001b[0mchessocr\u001b[0m\u001b[1;33m.\u001b[0m\u001b[0mline\u001b[0m \u001b[1;32mimport\u001b[0m \u001b[0mLine\u001b[0m\u001b[1;33m,\u001b[0m \u001b[0mpartitionLines\u001b[0m\u001b[1;33m,\u001b[0m \u001b[0mfilterCloseLines\u001b[0m\u001b[1;33m\u001b[0m\u001b[1;33m\u001b[0m\u001b[0m\n\u001b[0m\u001b[0;32m      2\u001b[0m \u001b[1;32mfrom\u001b[0m \u001b[0mchessocr\u001b[0m\u001b[1;33m.\u001b[0m\u001b[0mperspective\u001b[0m \u001b[1;32mimport\u001b[0m \u001b[0mgetPerspective\u001b[0m\u001b[1;33m\u001b[0m\u001b[1;33m\u001b[0m\u001b[0m\n\u001b[0;32m      3\u001b[0m \u001b[1;32mfrom\u001b[0m \u001b[0mchessocr\u001b[0m\u001b[1;33m.\u001b[0m\u001b[0mutil\u001b[0m \u001b[1;32mimport\u001b[0m \u001b[0mratio\u001b[0m\u001b[1;33m\u001b[0m\u001b[1;33m\u001b[0m\u001b[0m\n\u001b[0;32m      4\u001b[0m \u001b[1;32mfrom\u001b[0m \u001b[0mchessocr\u001b[0m\u001b[1;33m.\u001b[0m\u001b[0mutil\u001b[0m \u001b[1;32mimport\u001b[0m \u001b[0mshowImage\u001b[0m\u001b[1;33m,\u001b[0m \u001b[0mdrawPerspective\u001b[0m\u001b[1;33m,\u001b[0m \u001b[0mdrawBoundaries\u001b[0m\u001b[1;33m,\u001b[0m \u001b[0mdrawContour\u001b[0m\u001b[1;33m,\u001b[0m \u001b[0mwriteDocumentationImage\u001b[0m\u001b[1;33m\u001b[0m\u001b[1;33m\u001b[0m\u001b[0m\n\u001b[0;32m      5\u001b[0m \u001b[1;32mfrom\u001b[0m \u001b[0mchessocr\u001b[0m\u001b[1;33m.\u001b[0m\u001b[0mutil\u001b[0m \u001b[1;32mimport\u001b[0m \u001b[0mrandomColor\u001b[0m\u001b[1;33m\u001b[0m\u001b[1;33m\u001b[0m\u001b[0m\n",
      "\u001b[1;31mModuleNotFoundError\u001b[0m: No module named 'chessocr'"
     ]
    }
   ],
   "source": [
    "from chessocr.line import Line, partitionLines, filterCloseLines\n",
    "from chessocr.perspective import getPerspective\n",
    "from chessocr.util import ratio\n",
    "from chessocr.util import showImage, drawPerspective, drawBoundaries, drawContour, writeDocumentationImage\n",
    "from chessocr.util import randomColor"
   ]
  },
  {
   "cell_type": "code",
   "execution_count": null,
   "metadata": {},
   "outputs": [],
   "source": [
    "#export\n",
    "def largestContour(contours):\n",
    "    \"\"\"Finds the contour with the largest area in the list.\n",
    "    :param contours: list of contours\n",
    "    :returns: the largest countour\n",
    "    \"\"\"\n",
    "\n",
    "    largest = (0, [])\n",
    "    for c in contours:\n",
    "        contour_area = cv2.contourArea(c)\n",
    "        if contour_area > largest[0]:\n",
    "            largest = (contour_area, c)\n",
    "    return largest[1]"
   ]
  },
  {
   "cell_type": "code",
   "execution_count": null,
   "metadata": {},
   "outputs": [],
   "source": [
    "#export\n",
    "\n",
    "def ignoreContours(img,\n",
    "                   contours,\n",
    "                   hierarchy=None,\n",
    "                   min_ratio_bounding=0.6,\n",
    "                   min_area_percentage=0.01,\n",
    "                   max_area_percentage=0.40):\n",
    "    \"\"\"Filters a contour list based on some rules. If hierarchy != None,\n",
    "    only top-level contours are considered.\n",
    "    :param img: source image\n",
    "    :param contours: list of contours\n",
    "    :param hierarchy: contour hierarchy\n",
    "    :param min_ratio_bounding: minimum contour area vs. bounding box area ratio\n",
    "    :param min_area_percentage: minimum contour vs. image area percentage\n",
    "    :param max_area_percentage: maximum contour vs. image area percentage\n",
    "    :returns: a list with the unfiltered countour ids\n",
    "    \"\"\"\n",
    "\n",
    "    ret = []\n",
    "    i = -1\n",
    "\n",
    "    if hierarchy is not None:\n",
    "        while len(hierarchy.shape) > 2:\n",
    "            hierarchy = np.squeeze(hierarchy, 0)\n",
    "    img_area = img.shape[0] * img.shape[1]\n",
    "\n",
    "    for c in contours:\n",
    "        i += 1\n",
    "\n",
    "        if hierarchy is not None and not hierarchy[i][2] == -1:\n",
    "            continue\n",
    "\n",
    "        _,_,w,h = tmp = cv2.boundingRect(c)\n",
    "        if ratio(h,w) < min_ratio_bounding:\n",
    "            continue\n",
    "\n",
    "        contour_area = cv2.contourArea(c)\n",
    "        img_contour_ratio = ratio(img_area, contour_area)\n",
    "        if img_contour_ratio < min_area_percentage:\n",
    "            continue\n",
    "        if img_contour_ratio > max_area_percentage:\n",
    "            continue\n",
    "\n",
    "        ret.append(i)\n",
    "\n",
    "    return ret"
   ]
  },
  {
   "cell_type": "code",
   "execution_count": null,
   "metadata": {},
   "outputs": [],
   "source": [
    "#export\n",
    "def extractGrid(img,\n",
    "                nvertical,\n",
    "                nhorizontal,\n",
    "                threshold1 = 50,\n",
    "                threshold2 = 150,\n",
    "                apertureSize = 3,\n",
    "                hough_threshold_step=20,\n",
    "                hough_threshold_min=50,\n",
    "                hough_threshold_max=150):\n",
    "    \"\"\"Finds the grid lines in a board image.\n",
    "    :param img: board image\n",
    "    :param nvertical: number of vertical lines\n",
    "    :param nhorizontal: number of horizontal lines\n",
    "    :returns: a pair (horizontal, vertical). Both elements are lists with the lines' positions.\n",
    "    \"\"\"\n",
    "\n",
    "\n",
    "    w, h, _ = img.shape\n",
    "    close_threshold_v = (w / nvertical) / 4\n",
    "    close_threshold_h = (h / nhorizontal) / 4\n",
    "\n",
    "\n",
    "    im_gray = cv2.cvtColor(img, cv2.COLOR_BGR2GRAY)\n",
    "    thresh, im_bw = cv2.threshold(im_gray, 128, 255, cv2.THRESH_BINARY | cv2.THRESH_OTSU)\n",
    "    im_canny = cv2.Canny(im_bw, threshold1, threshold2, apertureSize=apertureSize)\n",
    "\n",
    "    for i in range(int(hough_threshold_max - hough_threshold_min + 1) // hough_threshold_step):\n",
    "        lines = cv2.HoughLines(im_canny, 1, np.pi / 180, hough_threshold_max - (hough_threshold_step * i))\n",
    "        if lines is None:\n",
    "            continue\n",
    "\n",
    "        lines = [Line(l[0], l[1]) for l in lines[0]]\n",
    "        horizontal, vertical = partitionLines(lines)\n",
    "        vertical = filterCloseLines(vertical, horizontal=False, threshold=close_threshold_v)\n",
    "        horizontal = filterCloseLines(horizontal, horizontal=True, threshold=close_threshold_h)\n",
    "\n",
    "        if len(vertical) >= nvertical and len(horizontal) >= nhorizontal:\n",
    "            return (horizontal, vertical)"
   ]
  },
  {
   "cell_type": "code",
   "execution_count": null,
   "metadata": {},
   "outputs": [],
   "source": [
    "#export\n",
    "def extractTiles(img, grid, w, h):\n",
    "    ret = []\n",
    "\n",
    "    for x in range(8):\n",
    "        v1 = grid[1][x]\n",
    "        v2 = grid[1][x+1]\n",
    "\n",
    "        for y in range(8):\n",
    "            h1 = grid[0][y]\n",
    "            h2 = grid[0][y+1]\n",
    "\n",
    "            perspective = (h1.intersect(v1),\n",
    "                           h1.intersect(v2),\n",
    "                           h2.intersect(v2),\n",
    "                           h2.intersect(v1))\n",
    "\n",
    "            tile = extractPerspective(img, perspective, w, h)\n",
    "\n",
    "            ret.append(((x,y), tile))\n",
    "\n",
    "\n",
    "    return ret"
   ]
  },
  {
   "cell_type": "code",
   "execution_count": null,
   "metadata": {},
   "outputs": [],
   "source": [
    "#export\n",
    "def extractPerspective(image, perspective, w, h, dest=None):\n",
    "    if dest is None:\n",
    "        dest = ((0,0), (w, 0), (w,h), (0, h))\n",
    "\n",
    "    if perspective is None:\n",
    "        im_w, im_h,_ = image.shape\n",
    "        perspective = ((0,0), (im_w, 0), (im_w,im_h), (0, im_h))\n",
    "\n",
    "    perspective = np.array(perspective ,np.float32)\n",
    "    dest = np.array(dest ,np.float32)\n",
    "\n",
    "    coeffs = cv2.getPerspectiveTransform(perspective, dest)\n",
    "    return cv2.warpPerspective(image, coeffs, (w, h))"
   ]
  },
  {
   "cell_type": "code",
   "execution_count": null,
   "metadata": {},
   "outputs": [],
   "source": [
    "#export\n",
    "def extractBoards(img, w, h):\n",
    "    \"\"\"Extracts all boards from an image. This function applies perspective correction.\n",
    "    :param img: source image\n",
    "    :param w: output width\n",
    "    :param h: output height\n",
    "    :returns: a list the extracted board images\n",
    "    \"\"\"\n",
    "    im_gray = cv2.cvtColor(img, cv2.COLOR_BGR2GRAY)\n",
    "\n",
    "    ## Doc ##\n",
    "    #writeDocumentationImage(im_gray, \"gray\")\n",
    "    ## Doc ##\n",
    "\n",
    "    (thresh, im_bw) = cv2.threshold(im_gray, 128, 255, cv2.THRESH_BINARY | cv2.THRESH_OTSU)\n",
    "\n",
    "    ## Doc ##\n",
    "    #writeDocumentationImage(im_bw, \"bw\")\n",
    "    ## Doc ##\n",
    "\n",
    "    contours,hierarchy = cv2.findContours(im_bw,  cv2.RETR_CCOMP, cv2.CHAIN_APPROX_TC89_KCOS)\n",
    "\n",
    "    ## Doc ##\n",
    "    #doc_im_contour = cv2.cvtColor(im_gray, cv2.COLOR_GRAY2BGR)\n",
    "    #for c in contours:\n",
    "    #    c = np.squeeze(c,1)\n",
    "    #    drawContour(doc_im_contour, c, randomColor())\n",
    "    #writeDocumentationImage(doc_im_contour, \"contours\")\n",
    "    #doc_im_perspective = cv2.cvtColor(im_gray, cv2.COLOR_GRAY2BGR)\n",
    "    #doc_im_contour = cv2.cvtColor(im_gray, cv2.COLOR_GRAY2BGR)\n",
    "    ## Doc ##\n",
    "\n",
    "    contour_ids = ignoreContours(im_bw, contours, hierarchy)\n",
    "    boards = []\n",
    "    for i in contour_ids:\n",
    "        c = contours[i]\n",
    "        c = np.squeeze(c,1)\n",
    "\n",
    "        ## Doc ##\n",
    "        #color = randomColor()\n",
    "        #drawContour(doc_im_contour, c, color)\n",
    "        ## Doc ##\n",
    "\n",
    "        perspective = getPerspective(img, c)\n",
    "        if perspective is not None:\n",
    "            b = extractPerspective(img, perspective, w, h)\n",
    "            boards.append(b)\n",
    "            ## Doc ##\n",
    "            #drawPerspective(doc_im_perspective, perspective)\n",
    "            ## Doc ##\n",
    "\n",
    "    ## Doc ##\n",
    "    #writeDocumentationImage(boards[-1], \"extracted\")\n",
    "    #writeDocumentationImage(doc_im_contour, \"contours_filtered\")\n",
    "    #writeDocumentationImage(doc_im_perspective, \"perspective\")\n",
    "    ## Doc ##\n",
    "\n",
    "\n",
    "    return boards"
   ]
  },
  {
   "cell_type": "code",
   "execution_count": null,
   "metadata": {},
   "outputs": [],
   "source": []
  }
 ],
 "metadata": {
  "kernelspec": {
   "display_name": "Python 3",
   "language": "python",
   "name": "python3"
  }
 },
 "nbformat": 4,
 "nbformat_minor": 2
}
