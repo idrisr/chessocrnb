{
 "cells": [
  {
   "cell_type": "code",
   "execution_count": null,
   "id": "ad5c4c93",
   "metadata": {},
   "outputs": [],
   "source": [
    "# default_exp generate_training"
   ]
  },
  {
   "cell_type": "code",
   "execution_count": null,
   "id": "5e7afed8",
   "metadata": {},
   "outputs": [],
   "source": [
    "from chessocr.training import *\n",
    "from random import choice\n",
    "from pathlib import Path\n",
    "import pandas as pd\n",
    "import shutil"
   ]
  },
  {
   "cell_type": "code",
   "execution_count": null,
   "id": "025367a5",
   "metadata": {},
   "outputs": [],
   "source": [
    "iterations = 1000"
   ]
  },
  {
   "cell_type": "code",
   "execution_count": null,
   "id": "f39c7282",
   "metadata": {},
   "outputs": [],
   "source": [
    "board_out = Path.home()/\".fastai/data/chess\"\n",
    "try: shutil.rmtree(board_out)\n",
    "except FileNotFoundError: pass"
   ]
  },
  {
   "cell_type": "code",
   "execution_count": null,
   "id": "958e0819",
   "metadata": {},
   "outputs": [],
   "source": [
    "dirs={}\n",
    "Path.mkdir(board_out, parents=True, exist_ok=True)\n",
    "dirs[\"board\"]=FileNamer(board_out)\n",
    "basepath = Path.home() / \".fastai/data/chesspiece/\"\n",
    "\n",
    "\n",
    "for piece, key in zip(['rook', 'knight', 'bishop', 'queen', 'king', 'pawn', 'blank'], \n",
    "                      ['r', 'n', 'b', 'q', 'k', 'p', '_']):\n",
    "    path = basepath / piece\n",
    "\n",
    "    Path.mkdir(path, parents=True, exist_ok=True)\n",
    "    dirs[key] = FileNamer(path)"
   ]
  },
  {
   "cell_type": "code",
   "execution_count": null,
   "id": "5358371c",
   "metadata": {},
   "outputs": [
    {
     "name": "stdout",
     "output_type": "stream",
     "text": [
      "CPU times: user 3min 33s, sys: 6.01 s, total: 3min 39s\n",
      "Wall time: 3min 43s\n"
     ]
    }
   ],
   "source": [
    "%%time\n",
    "l = []\n",
    "for i in range(iterations):\n",
    "    board = choice(boards)\n",
    "    board.reset() # fix this\n",
    "    r = Render(board, choice(pieces), choice(fens), (choice(sites)), dirs)\n",
    "    r.save()\n",
    "    r.save_slices()\n",
    "    l.append(r.label)\n",
    "df = pd.DataFrame(l, columns=r.header)\n",
    "df.to_csv(board_out/'annotations.csv')"
   ]
  }
 ],
 "metadata": {
  "kernelspec": {
   "display_name": "Python 3",
   "language": "python",
   "name": "python3"
  },
  "language_info": {
   "codemirror_mode": {
    "name": "ipython",
    "version": 3
   },
   "file_extension": ".py",
   "mimetype": "text/x-python",
   "name": "python",
   "nbconvert_exporter": "python",
   "pygments_lexer": "ipython3",
   "version": "3.7.4"
  }
 },
 "nbformat": 4,
 "nbformat_minor": 5
}
