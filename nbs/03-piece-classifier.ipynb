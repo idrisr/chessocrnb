{
 "cells": [
  {
   "cell_type": "code",
   "execution_count": null,
   "id": "5c2b61d9",
   "metadata": {},
   "outputs": [],
   "source": [
    "# default_exp classifier"
   ]
  },
  {
   "cell_type": "code",
   "execution_count": null,
   "id": "other-refund",
   "metadata": {},
   "outputs": [],
   "source": [
    "#hide\n",
    "from nbdev import showdoc"
   ]
  },
  {
   "cell_type": "markdown",
   "id": "growing-thousand",
   "metadata": {},
   "source": [
    "# Create training data\n",
    "\n",
    "from the chess board image to FEN app"
   ]
  },
  {
   "cell_type": "code",
   "execution_count": null,
   "id": "different-sudan",
   "metadata": {},
   "outputs": [],
   "source": [
    "#export\n",
    "from PIL import Image\n",
    "from collections import namedtuple\n",
    "from typing import Tuple\n",
    "from pathlib import Path\n",
    "from IPython import display\n",
    "from enum import Enum\n",
    "import os\n",
    "from functools import reduce\n",
    "from operator import iconcat"
   ]
  },
  {
   "cell_type": "code",
   "execution_count": null,
   "id": "processed-premiere",
   "metadata": {},
   "outputs": [],
   "source": [
    "#export\n",
    "Coord = namedtuple('coord', 'file rank')\n",
    "CropBox = Tuple[float, float, float, float]"
   ]
  },
  {
   "cell_type": "markdown",
   "id": "injured-pilot",
   "metadata": {},
   "source": [
    "## Color"
   ]
  },
  {
   "cell_type": "code",
   "execution_count": null,
   "id": "protected-brunswick",
   "metadata": {},
   "outputs": [],
   "source": [
    "#export\n",
    "class Color(Enum):\n",
    "    white = 0\n",
    "    black = 1"
   ]
  },
  {
   "cell_type": "markdown",
   "id": "standing-decrease",
   "metadata": {},
   "source": [
    "## Piece"
   ]
  },
  {
   "cell_type": "code",
   "execution_count": null,
   "id": "painted-outline",
   "metadata": {},
   "outputs": [],
   "source": [
    "#export\n",
    "class Piece(Enum):\n",
    "    bishop = 0\n",
    "    knight = 1\n",
    "    rook = 2\n",
    "    queen = 3\n",
    "    king = 4\n",
    "    pawn = 5\n",
    "    empty = 6 "
   ]
  },
  {
   "cell_type": "markdown",
   "id": "victorian-assets",
   "metadata": {},
   "source": [
    "## BoardImage"
   ]
  },
  {
   "cell_type": "code",
   "execution_count": null,
   "id": "collected-memory",
   "metadata": {},
   "outputs": [],
   "source": [
    "#export\n",
    "class BoardImage:\n",
    "    \"\"\" Represents a perfectly cropped image of a chessboard\n",
    "    Attributes:\n",
    "        path: url of image\n",
    "        image: loaded PIL image from path\n",
    "    \"\"\"\n",
    "    image: Image\n",
    "\n",
    "    def __init__(self, path):\n",
    "        \"\"\" only works for starting position, with white on bottom\"\"\"\n",
    "        self.path = path\n",
    "        self.image = Image.open(path)    \n",
    "        \n",
    "    _coordinates = {Piece.king: ['e1', 'e8'], \n",
    "             Piece.queen: ['d1', 'd8'], \n",
    "             Piece.knight: ['b1', 'g1', 'b8', 'g8'], \n",
    "             Piece.rook: ['a1', 'h1', 'a8', 'h8'], \n",
    "             Piece.bishop: ['c1', 'f1', 'c8', 'f8'], \n",
    "             Piece.pawn: ['a2', 'b2', 'c2', 'd2', 'e2', 'f2', 'g2', 'h2', \n",
    "                          'a7', 'b7', 'c7', 'd7', 'e7', 'f7', 'g7', 'h7'],\n",
    "             Piece.empty: ['a3', 'b3', 'c3', 'd3', 'e3', 'f3', 'g3', 'h3',\n",
    "                           'a4', 'b4', 'c4', 'd4', 'e4', 'f4', 'g4', 'h4',\n",
    "                           'a5', 'b5', 'c5', 'd5', 'e5', 'f5', 'g5', 'h5',\n",
    "                           'a6', 'b6', 'c6', 'd6', 'e6', 'f6', 'g6', 'h6']\n",
    "                   }\n",
    "    \n",
    "    \n",
    "    def _get_crop_box(self, coord: Coord) -> CropBox:\n",
    "        \"\"\" \n",
    "        coord: board coordinate, a8, h3, f4, etc\n",
    "        height: float of board image height\n",
    "        width: float of board image width\n",
    "\n",
    "        output: rectangle cooridates for a8, h3, f4\n",
    "        \"\"\"\n",
    "        \n",
    "        width = self.image.width\n",
    "        height = self.image.height\n",
    "        origin_y = (8 - int(coord.rank)) * height / 8\n",
    "        origin_x = int(ord(coord.file) - ord('a')) * width / 8\n",
    "        return (origin_x, origin_y, origin_x + width / 8, origin_y + height / 8)\n",
    "    \n",
    "    \n",
    "    def get_square(self, coord):\n",
    "        coord = get_coord(coord)\n",
    "        cropbox = self._get_crop_box(coord)\n",
    "        return self.image.crop(cropbox)\n",
    "        \n",
    "    def get_pieces(self, piece):\n",
    "        return [self.get_square(_) for _ in self._coordinates[piece]]\n",
    "    \n",
    "    def get_all_pieces(self):\n",
    "        raise NotImplemented        \n",
    "    \n",
    "    def get_black_pieces(self, color):\n",
    "        raise NotImplemented\n",
    "    \n",
    "    def get_white_pieces(self, piece, color):\n",
    "        raise NotImplemented\n",
    "    \n",
    "    def get_empty_squares(self):\n",
    "        raise NotImplemented\n",
    "    \n",
    "    def __repr__(self):\n",
    "        return self.path.as_posix()"
   ]
  },
  {
   "cell_type": "raw",
   "id": "gentle-spider",
   "metadata": {},
   "source": [
    "input: \n",
    "    screenshot of board\n",
    "output: \n",
    "    64 images of each square, labeled with piece name\n",
    "input: \n",
    "    image with label\n",
    "io:\n",
    "    save image to proper directory"
   ]
  },
  {
   "cell_type": "code",
   "execution_count": null,
   "id": "governing-spring",
   "metadata": {},
   "outputs": [],
   "source": [
    "#export\n",
    "def get_coord(name) -> Coord:\n",
    "    \"\"\" name: 2 character coordinate of board square. A8, h3, f4, etc \"\"\"\n",
    "    file, rank = name.lower()[0], name.lower()[1]\n",
    "    assert file in ['a', 'b', 'c', 'd', 'e', 'f', 'g', 'h']\n",
    "    assert rank in ['1', '2', '3', '4', '5', '6', '7', '8']\n",
    "    return Coord(rank=rank, file=file)"
   ]
  },
  {
   "cell_type": "code",
   "execution_count": null,
   "id": "demonstrated-frontier",
   "metadata": {},
   "outputs": [],
   "source": [
    "board = Path('data/_board/CleanShot 2021-03-28 at 21.36.07@2x.png')\n",
    "board = Path('/Users/id/nassync/2051-chess-vision-blog-post/board.png')"
   ]
  },
  {
   "cell_type": "code",
   "execution_count": null,
   "id": "scenic-shield",
   "metadata": {},
   "outputs": [],
   "source": [
    "bi = BoardImage(board)\n",
    "pieces = reduce(iconcat, [bi.get_pieces(o) for o in Piece], [])"
   ]
  },
  {
   "cell_type": "code",
   "execution_count": null,
   "id": "stunning-midwest",
   "metadata": {},
   "outputs": [
    {
     "ename": "FileNotFoundError",
     "evalue": "[Errno 2] No such file or directory: 'data/blogpost'",
     "output_type": "error",
     "traceback": [
      "\u001b[0;31m---------------------------------------------------------------------------\u001b[0m",
      "\u001b[0;31mFileNotFoundError\u001b[0m                         Traceback (most recent call last)",
      "\u001b[0;32m<ipython-input-16-43aea7b54fa6>\u001b[0m in \u001b[0;36m<module>\u001b[0;34m\u001b[0m\n\u001b[1;32m      1\u001b[0m \u001b[0moutput\u001b[0m \u001b[0;34m=\u001b[0m \u001b[0mPath\u001b[0m\u001b[0;34m(\u001b[0m\u001b[0;34m'data/blogpost/'\u001b[0m\u001b[0;34m)\u001b[0m\u001b[0;34m\u001b[0m\u001b[0;34m\u001b[0m\u001b[0m\n\u001b[1;32m      2\u001b[0m \u001b[0;32mif\u001b[0m \u001b[0;32mnot\u001b[0m \u001b[0moutput\u001b[0m\u001b[0;34m.\u001b[0m\u001b[0mexists\u001b[0m\u001b[0;34m(\u001b[0m\u001b[0;34m)\u001b[0m\u001b[0;34m:\u001b[0m\u001b[0;34m\u001b[0m\u001b[0;34m\u001b[0m\u001b[0m\n\u001b[0;32m----> 3\u001b[0;31m     \u001b[0moutput\u001b[0m\u001b[0;34m.\u001b[0m\u001b[0mmkdir\u001b[0m\u001b[0;34m(\u001b[0m\u001b[0;34m)\u001b[0m\u001b[0;34m\u001b[0m\u001b[0;34m\u001b[0m\u001b[0m\n\u001b[0m",
      "\u001b[0;32m/Library/Frameworks/Python.framework/Versions/3.7/lib/python3.7/pathlib.py\u001b[0m in \u001b[0;36mmkdir\u001b[0;34m(self, mode, parents, exist_ok)\u001b[0m\n\u001b[1;32m   1256\u001b[0m             \u001b[0mself\u001b[0m\u001b[0;34m.\u001b[0m\u001b[0m_raise_closed\u001b[0m\u001b[0;34m(\u001b[0m\u001b[0;34m)\u001b[0m\u001b[0;34m\u001b[0m\u001b[0;34m\u001b[0m\u001b[0m\n\u001b[1;32m   1257\u001b[0m         \u001b[0;32mtry\u001b[0m\u001b[0;34m:\u001b[0m\u001b[0;34m\u001b[0m\u001b[0;34m\u001b[0m\u001b[0m\n\u001b[0;32m-> 1258\u001b[0;31m             \u001b[0mself\u001b[0m\u001b[0;34m.\u001b[0m\u001b[0m_accessor\u001b[0m\u001b[0;34m.\u001b[0m\u001b[0mmkdir\u001b[0m\u001b[0;34m(\u001b[0m\u001b[0mself\u001b[0m\u001b[0;34m,\u001b[0m \u001b[0mmode\u001b[0m\u001b[0;34m)\u001b[0m\u001b[0;34m\u001b[0m\u001b[0;34m\u001b[0m\u001b[0m\n\u001b[0m\u001b[1;32m   1259\u001b[0m         \u001b[0;32mexcept\u001b[0m \u001b[0mFileNotFoundError\u001b[0m\u001b[0;34m:\u001b[0m\u001b[0;34m\u001b[0m\u001b[0;34m\u001b[0m\u001b[0m\n\u001b[1;32m   1260\u001b[0m             \u001b[0;32mif\u001b[0m \u001b[0;32mnot\u001b[0m \u001b[0mparents\u001b[0m \u001b[0;32mor\u001b[0m \u001b[0mself\u001b[0m\u001b[0;34m.\u001b[0m\u001b[0mparent\u001b[0m \u001b[0;34m==\u001b[0m \u001b[0mself\u001b[0m\u001b[0;34m:\u001b[0m\u001b[0;34m\u001b[0m\u001b[0;34m\u001b[0m\u001b[0m\n",
      "\u001b[0;31mFileNotFoundError\u001b[0m: [Errno 2] No such file or directory: 'data/blogpost'"
     ]
    }
   ],
   "source": [
    "output = Path('data/blogpost/')\n",
    "if not output.exists():\n",
    "    output.mkdir()"
   ]
  },
  {
   "cell_type": "code",
   "execution_count": null,
   "id": "tropical-commissioner",
   "metadata": {},
   "outputs": [],
   "source": [
    "_ = [o.save(output/f\"{i}.png\") for i, o in enumerate(pieces)]"
   ]
  }
 ],
 "metadata": {
  "kernelspec": {
   "display_name": "Python 3",
   "language": "python",
   "name": "python3"
  }
 },
 "nbformat": 4,
 "nbformat_minor": 5
}
