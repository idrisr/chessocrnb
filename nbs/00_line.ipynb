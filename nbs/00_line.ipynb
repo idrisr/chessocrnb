{
 "cells": [
  {
   "cell_type": "code",
   "execution_count": null,
   "metadata": {},
   "outputs": [],
   "source": [
    "# default_exp line"
   ]
  },
  {
   "cell_type": "markdown",
   "metadata": {},
   "source": [
    "# line\n",
    "\n",
    "> API details."
   ]
  },
  {
   "cell_type": "code",
   "execution_count": null,
   "metadata": {},
   "outputs": [],
   "source": [
    "#hide\n",
    "from nbdev.showdoc import *"
   ]
  },
  {
   "cell_type": "code",
   "execution_count": null,
   "metadata": {},
   "outputs": [],
   "source": [
    "#export\n",
    "import cv2\n",
    "import numpy as np"
   ]
  },
  {
   "cell_type": "code",
   "execution_count": null,
   "metadata": {},
   "outputs": [],
   "source": [
    "#export\n",
    "class Line:\n",
    "    def __init__(self, rho, theta):\n",
    "        self._rho = rho\n",
    "        self._theta = theta\n",
    "        self._cos_factor = np.cos(theta)\n",
    "        self._sin_factor = np.sin(theta)\n",
    "        self._center = (self._cos_factor * rho, self._sin_factor * rho)\n",
    "\n",
    "    def getCenter(self):\n",
    "        return self._center\n",
    "\n",
    "    def getRho(self):\n",
    "        return self._rho\n",
    "\n",
    "    def getTheta(self):\n",
    "        return self._theta\n",
    "\n",
    "    def getSegment(self, lenLeft, lenRight):\n",
    "        a = self._cos_factor\n",
    "        b = self._sin_factor\n",
    "        (x0, y0) = self._center\n",
    "\n",
    "        x1 = int(x0 + lenRight * (-b))\n",
    "        y1 = int(y0 + lenRight * a)\n",
    "        x2 = int(x0 - lenLeft * (-b))\n",
    "        y2 = int(y0 - lenLeft  * a)\n",
    "        return ((x1, y1), (x2, y2))\n",
    "\n",
    "    def isHorizontal(self, thresholdAngle=np.pi / 4):\n",
    "        return abs(np.sin(self._theta)) > np.cos(thresholdAngle)\n",
    "\n",
    "    def isVertical(self, thresholdAngle=np.pi / 4):\n",
    "        return abs(np.cos(self._theta)) > np.cos(thresholdAngle)\n",
    "\n",
    "    def intersect(self, line):\n",
    "        ct1 = np.cos(self._theta)\n",
    "        st1 = np.sin(self._theta)\n",
    "        ct2 = np.cos(line._theta)\n",
    "        st2 = np.sin(line._theta)\n",
    "        d = ct1 * st2 - st1 * ct2\n",
    "        if d == 0.0: raise ValueError('parallel lines: %s, %s)' % (str(self), str(line)))\n",
    "        x = (st2 * self._rho - st1 * line._rho) / d\n",
    "        y = (-ct2 * self._rho + ct1 * line._rho) / d\n",
    "        return (x, y)\n",
    "\n",
    "    def draw(self, image, color=(0,0,255), thickness=2):\n",
    "        p1, p2 = self.getSegment(1000,1000)\n",
    "        cv2.line(image, p1, p2, color, thickness)\n",
    "\n",
    "\n",
    "    def __repr__(self):\n",
    "        return \"(t: %.2fdeg, r: %.0f)\" % (self._theta *360/np.pi, self._rho)"
   ]
  },
  {
   "cell_type": "code",
   "execution_count": null,
   "metadata": {},
   "outputs": [],
   "source": [
    "#export\n",
    "def partitionLines(lines):\n",
    "    h = filter(lambda x: x.isHorizontal(), lines)\n",
    "    v = filter(lambda x: x.isVertical(), lines)\n",
    "\n",
    "    h = [(l._center[1], l) for l in h]\n",
    "    v = [(l._center[0], l) for l in v]\n",
    "\n",
    "    h.sort()\n",
    "    v.sort()\n",
    "\n",
    "    h = [l[1] for l in h]\n",
    "    v = [l[1] for l in v]\n",
    "\n",
    "    return (h, v)"
   ]
  },
  {
   "cell_type": "code",
   "execution_count": null,
   "metadata": {},
   "outputs": [],
   "source": [
    "#export\n",
    "def filterCloseLines(lines, horizontal=True, threshold = 40):\n",
    "    if horizontal:\n",
    "        item = 1\n",
    "    else:\n",
    "        item = 0\n",
    "\n",
    "    i = 0\n",
    "    ret = []\n",
    "\n",
    "    while i < len(lines):\n",
    "        itmp = i\n",
    "        while i < len(lines) and (lines[i]._center[item] - lines[itmp]._center[item] < threshold):\n",
    "            i += 1\n",
    "        ret.append(lines[itmp + int((i - itmp) / 2)])\n",
    "    return ret"
   ]
  }
 ],
 "metadata": {
  "kernelspec": {
   "display_name": "Python 3",
   "language": "python",
   "name": "python3"
  }
 },
 "nbformat": 4,
 "nbformat_minor": 2
}
